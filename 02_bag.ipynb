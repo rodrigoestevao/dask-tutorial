{
 "cells": [
  {
   "cell_type": "markdown",
   "metadata": {},
   "source": [
    "<img src=\"images/dask_horizontal.svg\" align=\"right\" width=\"30%\">"
   ]
  },
  {
   "cell_type": "markdown",
   "metadata": {},
   "source": [
    "# Bag: Parallel Lists for semi-structured data"
   ]
  },
  {
   "cell_type": "markdown",
   "metadata": {},
   "source": [
    "Dask-bag excels in processing data that can be represented as a sequence of arbitrary inputs. We'll refer to this as \"messy\" data, because it can contain complex nested structures, missing fields, mixtures of data types, etc. The *functional* programming style fits very nicely with standard Python iteration, such as can be found in the `itertools` module.\n",
    "\n",
    "Messy data is often encountered at the beginning of data processing pipelines when large volumes of raw data are first consumed. The initial set of data might be JSON, CSV, XML, or any other format that does not enforce strict structure and datatypes.\n",
    "For this reason, the initial data massaging and processing is often done with Python `list`s, `dict`s, and `set`s.\n",
    "\n",
    "These core data structures are optimized for general-purpose storage and processing.  Adding streaming computation with iterators/generator expressions or libraries like `itertools` or [`toolz`](https://toolz.readthedocs.io/en/latest/) let us process large volumes in a small space.  If we combine this with parallel processing then we can churn through a fair amount of data.\n",
    "\n",
    "Dask.bag is a high level Dask collection to automate common workloads of this form.  In a nutshell\n",
    "\n",
    "    dask.bag = map, filter, toolz + parallel execution\n",
    "    \n",
    "**Related Documentation**\n",
    "\n",
    "*  [Bag Documenation](http://dask.pydata.org/en/latest/bag.html)\n",
    "*  [Bag API](http://dask.pydata.org/en/latest/bag-api.html)"
   ]
  },
  {
   "cell_type": "markdown",
   "metadata": {},
   "source": [
    "Again, we'll use the distributed scheduler. Schedulers will be explained in depth [later](05_distributed.ipynb)."
   ]
  },
  {
   "cell_type": "code",
   "execution_count": 2,
   "metadata": {},
   "outputs": [],
   "source": [
    "from dask.distributed import Client\n",
    "\n",
    "client = Client()"
   ]
  },
  {
   "cell_type": "markdown",
   "metadata": {},
   "source": [
    "## Creation"
   ]
  },
  {
   "cell_type": "markdown",
   "metadata": {},
   "source": [
    "You can create a `Bag` from a Python sequence, from files, from data on S3, etc.\n",
    "We demonstrate using `.take()` to show elements of the data. (Doing `.take(1)` results in a tuple with one element)\n",
    "\n",
    "Note that the data are partitioned into blocks, and there are many items per block. In the first example, the two partitions contain five elements each, and in the following two, each file is partitioned into one or more bytes blocks."
   ]
  },
  {
   "cell_type": "code",
   "execution_count": 3,
   "metadata": {},
   "outputs": [
    {
     "data": {
      "text/plain": [
       "(1, 2, 3)"
      ]
     },
     "execution_count": 3,
     "metadata": {},
     "output_type": "execute_result"
    }
   ],
   "source": [
    "# each element is an integer\n",
    "import dask.bag as db\n",
    "b = db.from_sequence([1, 2, 3, 4, 5, 6, 7, 8, 9, 10], npartitions=2)\n",
    "b.take(3)"
   ]
  },
  {
   "cell_type": "code",
   "execution_count": 4,
   "metadata": {},
   "outputs": [
    {
     "data": {
      "text/plain": [
       "('{\"id\": 0, \"name\": \"Hannah\", \"transactions\": [{\"transaction-id\": 1258, \"amount\": 1879}, {\"transaction-id\": 1271, \"amount\": 2062}, {\"transaction-id\": 1766, \"amount\": 1821}, {\"transaction-id\": 2241, \"amount\": 1695}, {\"transaction-id\": 2262, \"amount\": 1780}, {\"transaction-id\": 5223, \"amount\": 1968}, {\"transaction-id\": 5385, \"amount\": 1688}, {\"transaction-id\": 5800, \"amount\": 1842}, {\"transaction-id\": 5880, \"amount\": 1838}, {\"transaction-id\": 6117, \"amount\": 2137}, {\"transaction-id\": 6570, \"amount\": 2172}, {\"transaction-id\": 7180, \"amount\": 1650}, {\"transaction-id\": 7208, \"amount\": 1806}, {\"transaction-id\": 8101, \"amount\": 2033}, {\"transaction-id\": 8147, \"amount\": 1952}, {\"transaction-id\": 9454, \"amount\": 1766}, {\"transaction-id\": 9876, \"amount\": 1993}, {\"transaction-id\": 9973, \"amount\": 2072}, {\"transaction-id\": 10419, \"amount\": 1780}, {\"transaction-id\": 10902, \"amount\": 1799}, {\"transaction-id\": 11290, \"amount\": 2090}, {\"transaction-id\": 11574, \"amount\": 1894}, {\"transaction-id\": 12299, \"amount\": 1842}, {\"transaction-id\": 12821, \"amount\": 1815}, {\"transaction-id\": 13944, \"amount\": 1706}, {\"transaction-id\": 14126, \"amount\": 1878}, {\"transaction-id\": 14559, \"amount\": 1777}, {\"transaction-id\": 14642, \"amount\": 2129}, {\"transaction-id\": 14777, \"amount\": 1848}, {\"transaction-id\": 15226, \"amount\": 1465}, {\"transaction-id\": 15448, \"amount\": 1829}, {\"transaction-id\": 16556, \"amount\": 1945}, {\"transaction-id\": 17408, \"amount\": 1652}, {\"transaction-id\": 17484, \"amount\": 2031}, {\"transaction-id\": 17518, \"amount\": 1968}, {\"transaction-id\": 18725, \"amount\": 1864}, {\"transaction-id\": 18846, \"amount\": 1950}, {\"transaction-id\": 19074, \"amount\": 1899}, {\"transaction-id\": 19163, \"amount\": 1851}, {\"transaction-id\": 19207, \"amount\": 1720}, {\"transaction-id\": 19274, \"amount\": 1837}, {\"transaction-id\": 20117, \"amount\": 1954}, {\"transaction-id\": 20904, \"amount\": 1720}, {\"transaction-id\": 20934, \"amount\": 1997}, {\"transaction-id\": 21099, \"amount\": 2140}, {\"transaction-id\": 21227, \"amount\": 1683}, {\"transaction-id\": 22987, \"amount\": 2038}, {\"transaction-id\": 24231, \"amount\": 1862}, {\"transaction-id\": 25214, \"amount\": 1704}, {\"transaction-id\": 25394, \"amount\": 1948}, {\"transaction-id\": 25512, \"amount\": 1828}, {\"transaction-id\": 25814, \"amount\": 1841}, {\"transaction-id\": 26475, \"amount\": 1831}, {\"transaction-id\": 27919, \"amount\": 1865}, {\"transaction-id\": 27934, \"amount\": 1882}, {\"transaction-id\": 28404, \"amount\": 1624}, {\"transaction-id\": 28570, \"amount\": 2016}, {\"transaction-id\": 29201, \"amount\": 1910}, {\"transaction-id\": 29613, \"amount\": 1746}, {\"transaction-id\": 30808, \"amount\": 1992}, {\"transaction-id\": 32528, \"amount\": 2022}, {\"transaction-id\": 32682, \"amount\": 1928}, {\"transaction-id\": 33014, \"amount\": 2044}, {\"transaction-id\": 34614, \"amount\": 1790}, {\"transaction-id\": 37104, \"amount\": 2158}, {\"transaction-id\": 37119, \"amount\": 1899}, {\"transaction-id\": 37198, \"amount\": 2062}, {\"transaction-id\": 38146, \"amount\": 1922}, {\"transaction-id\": 41457, \"amount\": 1948}, {\"transaction-id\": 41954, \"amount\": 2118}, {\"transaction-id\": 41980, \"amount\": 1883}, {\"transaction-id\": 42101, \"amount\": 1460}, {\"transaction-id\": 42395, \"amount\": 1899}, {\"transaction-id\": 42598, \"amount\": 2048}, {\"transaction-id\": 44044, \"amount\": 1726}, {\"transaction-id\": 44173, \"amount\": 1725}, {\"transaction-id\": 44469, \"amount\": 1888}, {\"transaction-id\": 45738, \"amount\": 1907}, {\"transaction-id\": 48294, \"amount\": 2202}, {\"transaction-id\": 48407, \"amount\": 1915}, {\"transaction-id\": 50162, \"amount\": 2037}, {\"transaction-id\": 50885, \"amount\": 1848}, {\"transaction-id\": 51913, \"amount\": 2007}, {\"transaction-id\": 52217, \"amount\": 1984}, {\"transaction-id\": 52441, \"amount\": 1928}, {\"transaction-id\": 52936, \"amount\": 1842}, {\"transaction-id\": 53236, \"amount\": 1889}, {\"transaction-id\": 53420, \"amount\": 2110}, {\"transaction-id\": 53837, \"amount\": 1809}, {\"transaction-id\": 54993, \"amount\": 1930}, {\"transaction-id\": 55448, \"amount\": 1825}, {\"transaction-id\": 57381, \"amount\": 2144}, {\"transaction-id\": 57527, \"amount\": 1742}, {\"transaction-id\": 58291, \"amount\": 1844}, {\"transaction-id\": 58327, \"amount\": 2138}, {\"transaction-id\": 59237, \"amount\": 1814}, {\"transaction-id\": 59441, \"amount\": 1698}, {\"transaction-id\": 59505, \"amount\": 1768}, {\"transaction-id\": 59911, \"amount\": 1846}, {\"transaction-id\": 60723, \"amount\": 1893}, {\"transaction-id\": 61933, \"amount\": 1865}, {\"transaction-id\": 62632, \"amount\": 1907}, {\"transaction-id\": 62688, \"amount\": 1881}, {\"transaction-id\": 65195, \"amount\": 1943}, {\"transaction-id\": 65365, \"amount\": 2112}, {\"transaction-id\": 68069, \"amount\": 1737}, {\"transaction-id\": 68144, \"amount\": 1889}, {\"transaction-id\": 69210, \"amount\": 1974}, {\"transaction-id\": 69282, \"amount\": 1889}, {\"transaction-id\": 69360, \"amount\": 1653}, {\"transaction-id\": 69525, \"amount\": 2063}, {\"transaction-id\": 69797, \"amount\": 1652}, {\"transaction-id\": 69875, \"amount\": 1931}, {\"transaction-id\": 70120, \"amount\": 1539}, {\"transaction-id\": 70627, \"amount\": 2067}, {\"transaction-id\": 71023, \"amount\": 2130}, {\"transaction-id\": 71151, \"amount\": 2282}, {\"transaction-id\": 71952, \"amount\": 1897}, {\"transaction-id\": 73411, \"amount\": 2059}, {\"transaction-id\": 74308, \"amount\": 1954}, {\"transaction-id\": 75320, \"amount\": 1745}, {\"transaction-id\": 76684, \"amount\": 1893}, {\"transaction-id\": 76694, \"amount\": 2010}, {\"transaction-id\": 76811, \"amount\": 1741}, {\"transaction-id\": 77024, \"amount\": 1754}, {\"transaction-id\": 77571, \"amount\": 2076}, {\"transaction-id\": 77611, \"amount\": 1698}, {\"transaction-id\": 78252, \"amount\": 1647}, {\"transaction-id\": 78361, \"amount\": 2140}, {\"transaction-id\": 79181, \"amount\": 1993}, {\"transaction-id\": 79217, \"amount\": 2116}, {\"transaction-id\": 80309, \"amount\": 1844}, {\"transaction-id\": 80486, \"amount\": 2034}, {\"transaction-id\": 80955, \"amount\": 1793}, {\"transaction-id\": 82982, \"amount\": 2015}, {\"transaction-id\": 83159, \"amount\": 1829}, {\"transaction-id\": 84221, \"amount\": 2071}, {\"transaction-id\": 84366, \"amount\": 1819}, {\"transaction-id\": 84784, \"amount\": 1943}, {\"transaction-id\": 84965, \"amount\": 2118}, {\"transaction-id\": 85818, \"amount\": 1997}, {\"transaction-id\": 86481, \"amount\": 2001}, {\"transaction-id\": 86532, \"amount\": 1971}, {\"transaction-id\": 86867, \"amount\": 1885}, {\"transaction-id\": 86927, \"amount\": 1762}, {\"transaction-id\": 87126, \"amount\": 1815}, {\"transaction-id\": 87707, \"amount\": 2160}, {\"transaction-id\": 87842, \"amount\": 1942}, {\"transaction-id\": 88410, \"amount\": 1648}, {\"transaction-id\": 88618, \"amount\": 2024}, {\"transaction-id\": 89325, \"amount\": 1864}, {\"transaction-id\": 89809, \"amount\": 1973}, {\"transaction-id\": 90784, \"amount\": 1758}, {\"transaction-id\": 91287, \"amount\": 1837}, {\"transaction-id\": 92267, \"amount\": 1891}, {\"transaction-id\": 92438, \"amount\": 1685}, {\"transaction-id\": 92476, \"amount\": 1774}, {\"transaction-id\": 93402, \"amount\": 1894}, {\"transaction-id\": 93852, \"amount\": 2098}, {\"transaction-id\": 94696, \"amount\": 2043}, {\"transaction-id\": 96320, \"amount\": 1966}, {\"transaction-id\": 96468, \"amount\": 1724}, {\"transaction-id\": 98697, \"amount\": 1740}, {\"transaction-id\": 99005, \"amount\": 1754}, {\"transaction-id\": 99107, \"amount\": 1990}, {\"transaction-id\": 99451, \"amount\": 2091}, {\"transaction-id\": 99603, \"amount\": 2102}, {\"transaction-id\": 99691, \"amount\": 1781}]}\\n',)"
      ]
     },
     "execution_count": 4,
     "metadata": {},
     "output_type": "execute_result"
    }
   ],
   "source": [
    "# each element is a text file, where each line is a JSON object\n",
    "# note that the compression is handled automatically\n",
    "import os\n",
    "b = db.read_text(os.path.join('data', 'accounts.*.json.gz'))\n",
    "b.take(1)"
   ]
  },
  {
   "cell_type": "code",
   "execution_count": null,
   "metadata": {},
   "outputs": [],
   "source": [
    "# Requires `s3fs` library\n",
    "# each partition is a remote CSV text file\n",
    "b = db.read_text('s3://dask-data/nyc-taxi/2015/yellow_tripdata_2015-01.csv',\n",
    "                 storage_options={'anon': True})\n",
    "b.take(1)"
   ]
  },
  {
   "cell_type": "markdown",
   "metadata": {},
   "source": [
    "## Manipulation"
   ]
  },
  {
   "cell_type": "markdown",
   "metadata": {},
   "source": [
    "`Bag` objects hold the standard functional API found in projects like the Python standard library, `toolz`, or `pyspark`, including `map`, `filter`, `groupby`, etc..\n",
    "\n",
    "Operations on `Bag` objects create new bags.  Call the `.compute()` method to trigger execution, as we saw for `Delayed` objects.  "
   ]
  },
  {
   "cell_type": "code",
   "execution_count": 6,
   "metadata": {},
   "outputs": [
    {
     "data": {
      "text/plain": [
       "dask.bag<lambda, npartitions=10>"
      ]
     },
     "execution_count": 6,
     "metadata": {},
     "output_type": "execute_result"
    }
   ],
   "source": [
    "def is_even(n):\n",
    "    return n % 2 == 0\n",
    "\n",
    "b = db.from_sequence([1, 2, 3, 4, 5, 6, 7, 8, 9, 10])\n",
    "c = b.filter(is_even).map(lambda x: x ** 2)\n",
    "c"
   ]
  },
  {
   "cell_type": "code",
   "execution_count": 7,
   "metadata": {},
   "outputs": [
    {
     "data": {
      "text/plain": [
       "[4, 16, 36, 64, 100]"
      ]
     },
     "execution_count": 7,
     "metadata": {},
     "output_type": "execute_result"
    }
   ],
   "source": [
    "# blocking form: wait for completion (which is very fast in this case)\n",
    "c.compute()"
   ]
  },
  {
   "cell_type": "markdown",
   "metadata": {},
   "source": [
    "### Example: Accounts JSON data"
   ]
  },
  {
   "cell_type": "markdown",
   "metadata": {},
   "source": [
    "We've created a fake dataset of gzipped JSON data in your data directory.  This is like the example used in the `DataFrame` example we will see later, except that it has bundled up all of the entires for each individual `id` into a single record.  This is similar to data that you might collect off of a document store database or a web API.\n",
    "\n",
    "Each line is a JSON encoded dictionary with the following keys\n",
    "\n",
    "*  id: Unique identifier of the customer\n",
    "*  name: Name of the customer\n",
    "*  transactions: List of `transaction-id`, `amount` pairs, one for each transaction for the customer in that file"
   ]
  },
  {
   "cell_type": "code",
   "execution_count": 17,
   "metadata": {},
   "outputs": [],
   "source": [
    "import json\n",
    "\n",
    "filename = os.path.join('data', 'accounts.*.json.gz')\n",
    "lines = db.read_text(filename)\n",
    "data = lines.take(3)"
   ]
  },
  {
   "cell_type": "markdown",
   "metadata": {},
   "source": [
    "Our data comes out of the file as lines of text. Notice that file decompression happened automatically. We can make this data look more reasonable by mapping the `json.loads` function onto our bag."
   ]
  },
  {
   "cell_type": "code",
   "execution_count": null,
   "metadata": {},
   "outputs": [],
   "source": [
    "import json\n",
    "js = lines.map(json.loads)\n",
    "# take: inspect first few elements\n",
    "js.take(3)"
   ]
  },
  {
   "cell_type": "markdown",
   "metadata": {},
   "source": [
    "### Basic Queries"
   ]
  },
  {
   "cell_type": "markdown",
   "metadata": {},
   "source": [
    "Once we parse our JSON data into proper Python objects (`dict`s, `list`s, etc.) we can perform more interesting queries by creating small Python functions to run on our data."
   ]
  },
  {
   "cell_type": "code",
   "execution_count": 19,
   "metadata": {
    "collapsed": true,
    "jupyter": {
     "outputs_hidden": true
    }
   },
   "outputs": [
    {
     "data": {
      "text/plain": [
       "({'id': 28,\n",
       "  'name': 'Alice',\n",
       "  'transactions': [{'transaction-id': 0, 'amount': 4322},\n",
       "   {'transaction-id': 3562, 'amount': 4425},\n",
       "   {'transaction-id': 6996, 'amount': 4435},\n",
       "   {'transaction-id': 12493, 'amount': 4179},\n",
       "   {'transaction-id': 34460, 'amount': 4643},\n",
       "   {'transaction-id': 39668, 'amount': 4238},\n",
       "   {'transaction-id': 41986, 'amount': 4582},\n",
       "   {'transaction-id': 50578, 'amount': 3999},\n",
       "   {'transaction-id': 63287, 'amount': 4449},\n",
       "   {'transaction-id': 76523, 'amount': 4538}]},\n",
       " {'id': 50,\n",
       "  'name': 'Alice',\n",
       "  'transactions': [{'transaction-id': 575, 'amount': 311},\n",
       "   {'transaction-id': 1484, 'amount': 858},\n",
       "   {'transaction-id': 1974, 'amount': 846},\n",
       "   {'transaction-id': 2683, 'amount': 635},\n",
       "   {'transaction-id': 3876, 'amount': 222},\n",
       "   {'transaction-id': 3964, 'amount': 566},\n",
       "   {'transaction-id': 4324, 'amount': 1075},\n",
       "   {'transaction-id': 7396, 'amount': 566},\n",
       "   {'transaction-id': 8922, 'amount': 876},\n",
       "   {'transaction-id': 11741, 'amount': 507},\n",
       "   {'transaction-id': 16806, 'amount': 703},\n",
       "   {'transaction-id': 17451, 'amount': 587},\n",
       "   {'transaction-id': 18718, 'amount': 578},\n",
       "   {'transaction-id': 20669, 'amount': 290},\n",
       "   {'transaction-id': 23209, 'amount': 705},\n",
       "   {'transaction-id': 27080, 'amount': 817},\n",
       "   {'transaction-id': 30954, 'amount': 606},\n",
       "   {'transaction-id': 33536, 'amount': 755},\n",
       "   {'transaction-id': 34707, 'amount': 847},\n",
       "   {'transaction-id': 36538, 'amount': 698},\n",
       "   {'transaction-id': 36863, 'amount': 622},\n",
       "   {'transaction-id': 38036, 'amount': 725},\n",
       "   {'transaction-id': 46898, 'amount': 746},\n",
       "   {'transaction-id': 50077, 'amount': 423},\n",
       "   {'transaction-id': 50143, 'amount': 387},\n",
       "   {'transaction-id': 58049, 'amount': 775},\n",
       "   {'transaction-id': 61087, 'amount': 864},\n",
       "   {'transaction-id': 74997, 'amount': 939},\n",
       "   {'transaction-id': 76037, 'amount': 457},\n",
       "   {'transaction-id': 84868, 'amount': 738},\n",
       "   {'transaction-id': 85731, 'amount': 625},\n",
       "   {'transaction-id': 88804, 'amount': 259},\n",
       "   {'transaction-id': 92792, 'amount': 569},\n",
       "   {'transaction-id': 93607, 'amount': 562},\n",
       "   {'transaction-id': 99348, 'amount': 900},\n",
       "   {'transaction-id': 99476, 'amount': 374}]},\n",
       " {'id': 54,\n",
       "  'name': 'Alice',\n",
       "  'transactions': [{'transaction-id': 1112, 'amount': 5987},\n",
       "   {'transaction-id': 1245, 'amount': 5614},\n",
       "   {'transaction-id': 2283, 'amount': 6102},\n",
       "   {'transaction-id': 5357, 'amount': 5873},\n",
       "   {'transaction-id': 6227, 'amount': 5511},\n",
       "   {'transaction-id': 7720, 'amount': 6340},\n",
       "   {'transaction-id': 7825, 'amount': 5849},\n",
       "   {'transaction-id': 7998, 'amount': 6270},\n",
       "   {'transaction-id': 8218, 'amount': 5289},\n",
       "   {'transaction-id': 8592, 'amount': 6242},\n",
       "   {'transaction-id': 10022, 'amount': 6016},\n",
       "   {'transaction-id': 11935, 'amount': 5582},\n",
       "   {'transaction-id': 12027, 'amount': 6110},\n",
       "   {'transaction-id': 12532, 'amount': 5121},\n",
       "   {'transaction-id': 14318, 'amount': 5666},\n",
       "   {'transaction-id': 14381, 'amount': 5665},\n",
       "   {'transaction-id': 14638, 'amount': 5174},\n",
       "   {'transaction-id': 16789, 'amount': 6240},\n",
       "   {'transaction-id': 18148, 'amount': 5352},\n",
       "   {'transaction-id': 18445, 'amount': 5661},\n",
       "   {'transaction-id': 19445, 'amount': 5940},\n",
       "   {'transaction-id': 19608, 'amount': 5360},\n",
       "   {'transaction-id': 20500, 'amount': 5540},\n",
       "   {'transaction-id': 21138, 'amount': 5825},\n",
       "   {'transaction-id': 21362, 'amount': 4975},\n",
       "   {'transaction-id': 22698, 'amount': 5715},\n",
       "   {'transaction-id': 24292, 'amount': 6004},\n",
       "   {'transaction-id': 26056, 'amount': 5137},\n",
       "   {'transaction-id': 27459, 'amount': 5673},\n",
       "   {'transaction-id': 28926, 'amount': 5189},\n",
       "   {'transaction-id': 29020, 'amount': 5475},\n",
       "   {'transaction-id': 30092, 'amount': 5914},\n",
       "   {'transaction-id': 30121, 'amount': 5614},\n",
       "   {'transaction-id': 33206, 'amount': 5441},\n",
       "   {'transaction-id': 35532, 'amount': 5687},\n",
       "   {'transaction-id': 38307, 'amount': 5893},\n",
       "   {'transaction-id': 38326, 'amount': 5837},\n",
       "   {'transaction-id': 38860, 'amount': 5772},\n",
       "   {'transaction-id': 40991, 'amount': 6279},\n",
       "   {'transaction-id': 42289, 'amount': 5767},\n",
       "   {'transaction-id': 42650, 'amount': 5488},\n",
       "   {'transaction-id': 46283, 'amount': 5976},\n",
       "   {'transaction-id': 49395, 'amount': 5293},\n",
       "   {'transaction-id': 50829, 'amount': 5465},\n",
       "   {'transaction-id': 50843, 'amount': 5985},\n",
       "   {'transaction-id': 51084, 'amount': 6301},\n",
       "   {'transaction-id': 56460, 'amount': 5864},\n",
       "   {'transaction-id': 58256, 'amount': 5821},\n",
       "   {'transaction-id': 58440, 'amount': 6496},\n",
       "   {'transaction-id': 62612, 'amount': 5462},\n",
       "   {'transaction-id': 62896, 'amount': 5932},\n",
       "   {'transaction-id': 63575, 'amount': 6261},\n",
       "   {'transaction-id': 64780, 'amount': 5743},\n",
       "   {'transaction-id': 65743, 'amount': 6066},\n",
       "   {'transaction-id': 67191, 'amount': 5901},\n",
       "   {'transaction-id': 68805, 'amount': 5718},\n",
       "   {'transaction-id': 69055, 'amount': 5682},\n",
       "   {'transaction-id': 71673, 'amount': 5561},\n",
       "   {'transaction-id': 74076, 'amount': 5616},\n",
       "   {'transaction-id': 74688, 'amount': 5457},\n",
       "   {'transaction-id': 75061, 'amount': 5901},\n",
       "   {'transaction-id': 75761, 'amount': 5088},\n",
       "   {'transaction-id': 76217, 'amount': 5674},\n",
       "   {'transaction-id': 77059, 'amount': 5991},\n",
       "   {'transaction-id': 80013, 'amount': 5441},\n",
       "   {'transaction-id': 80216, 'amount': 5667},\n",
       "   {'transaction-id': 82521, 'amount': 5435},\n",
       "   {'transaction-id': 85058, 'amount': 6012},\n",
       "   {'transaction-id': 85631, 'amount': 6030},\n",
       "   {'transaction-id': 85858, 'amount': 5996},\n",
       "   {'transaction-id': 86908, 'amount': 5509},\n",
       "   {'transaction-id': 87567, 'amount': 6015},\n",
       "   {'transaction-id': 88089, 'amount': 5305},\n",
       "   {'transaction-id': 88381, 'amount': 5707},\n",
       "   {'transaction-id': 92573, 'amount': 6261},\n",
       "   {'transaction-id': 93505, 'amount': 5860},\n",
       "   {'transaction-id': 94674, 'amount': 5914},\n",
       "   {'transaction-id': 95730, 'amount': 5619},\n",
       "   {'transaction-id': 96073, 'amount': 5476},\n",
       "   {'transaction-id': 97111, 'amount': 5636},\n",
       "   {'transaction-id': 98259, 'amount': 5756}]},\n",
       " {'id': 61,\n",
       "  'name': 'Alice',\n",
       "  'transactions': [{'transaction-id': 5059, 'amount': 49},\n",
       "   {'transaction-id': 16587, 'amount': 46},\n",
       "   {'transaction-id': 21813, 'amount': 44},\n",
       "   {'transaction-id': 24842, 'amount': 46},\n",
       "   {'transaction-id': 36203, 'amount': 52},\n",
       "   {'transaction-id': 47784, 'amount': 48},\n",
       "   {'transaction-id': 54669, 'amount': 50},\n",
       "   {'transaction-id': 57671, 'amount': 45},\n",
       "   {'transaction-id': 74480, 'amount': 49},\n",
       "   {'transaction-id': 76207, 'amount': 49},\n",
       "   {'transaction-id': 86846, 'amount': 46},\n",
       "   {'transaction-id': 97989, 'amount': 47}]},\n",
       " {'id': 69,\n",
       "  'name': 'Alice',\n",
       "  'transactions': [{'transaction-id': 2843, 'amount': -483},\n",
       "   {'transaction-id': 3101, 'amount': -537},\n",
       "   {'transaction-id': 3291, 'amount': -445},\n",
       "   {'transaction-id': 3889, 'amount': -413},\n",
       "   {'transaction-id': 4325, 'amount': -416},\n",
       "   {'transaction-id': 4459, 'amount': -403},\n",
       "   {'transaction-id': 4790, 'amount': -424},\n",
       "   {'transaction-id': 4919, 'amount': -292},\n",
       "   {'transaction-id': 5029, 'amount': -359},\n",
       "   {'transaction-id': 5990, 'amount': -406},\n",
       "   {'transaction-id': 7523, 'amount': -408},\n",
       "   {'transaction-id': 7544, 'amount': -237},\n",
       "   {'transaction-id': 10378, 'amount': -391},\n",
       "   {'transaction-id': 11332, 'amount': -355},\n",
       "   {'transaction-id': 11456, 'amount': -445},\n",
       "   {'transaction-id': 13481, 'amount': -412},\n",
       "   {'transaction-id': 13683, 'amount': -372},\n",
       "   {'transaction-id': 16745, 'amount': -353},\n",
       "   {'transaction-id': 18388, 'amount': -345},\n",
       "   {'transaction-id': 18496, 'amount': -437},\n",
       "   {'transaction-id': 20660, 'amount': -461},\n",
       "   {'transaction-id': 21334, 'amount': -392},\n",
       "   {'transaction-id': 21690, 'amount': -386},\n",
       "   {'transaction-id': 24787, 'amount': -472},\n",
       "   {'transaction-id': 25327, 'amount': -499},\n",
       "   {'transaction-id': 27321, 'amount': -517},\n",
       "   {'transaction-id': 30944, 'amount': -232},\n",
       "   {'transaction-id': 32297, 'amount': -388},\n",
       "   {'transaction-id': 33641, 'amount': -451},\n",
       "   {'transaction-id': 34920, 'amount': -445},\n",
       "   {'transaction-id': 35535, 'amount': -412},\n",
       "   {'transaction-id': 37330, 'amount': -407},\n",
       "   {'transaction-id': 38171, 'amount': -463},\n",
       "   {'transaction-id': 39414, 'amount': -442},\n",
       "   {'transaction-id': 40047, 'amount': -358},\n",
       "   {'transaction-id': 40509, 'amount': -285},\n",
       "   {'transaction-id': 41299, 'amount': -333},\n",
       "   {'transaction-id': 42034, 'amount': -335},\n",
       "   {'transaction-id': 43093, 'amount': -434},\n",
       "   {'transaction-id': 43847, 'amount': -411},\n",
       "   {'transaction-id': 44347, 'amount': -411},\n",
       "   {'transaction-id': 44788, 'amount': -336},\n",
       "   {'transaction-id': 45555, 'amount': -451},\n",
       "   {'transaction-id': 48866, 'amount': -269},\n",
       "   {'transaction-id': 50154, 'amount': -461},\n",
       "   {'transaction-id': 50220, 'amount': -409},\n",
       "   {'transaction-id': 51006, 'amount': -418},\n",
       "   {'transaction-id': 51629, 'amount': -419},\n",
       "   {'transaction-id': 51904, 'amount': -315},\n",
       "   {'transaction-id': 54473, 'amount': -393},\n",
       "   {'transaction-id': 54825, 'amount': -420},\n",
       "   {'transaction-id': 54994, 'amount': -444},\n",
       "   {'transaction-id': 55019, 'amount': -507},\n",
       "   {'transaction-id': 57278, 'amount': -464},\n",
       "   {'transaction-id': 58561, 'amount': -398},\n",
       "   {'transaction-id': 60042, 'amount': -294},\n",
       "   {'transaction-id': 60607, 'amount': -402},\n",
       "   {'transaction-id': 64157, 'amount': -443},\n",
       "   {'transaction-id': 65038, 'amount': -344},\n",
       "   {'transaction-id': 66512, 'amount': -417},\n",
       "   {'transaction-id': 66709, 'amount': -430},\n",
       "   {'transaction-id': 69619, 'amount': -437},\n",
       "   {'transaction-id': 69713, 'amount': -434},\n",
       "   {'transaction-id': 70230, 'amount': -512},\n",
       "   {'transaction-id': 72296, 'amount': -446},\n",
       "   {'transaction-id': 74080, 'amount': -472},\n",
       "   {'transaction-id': 74208, 'amount': -378},\n",
       "   {'transaction-id': 74851, 'amount': -416},\n",
       "   {'transaction-id': 75177, 'amount': -346},\n",
       "   {'transaction-id': 75507, 'amount': -424},\n",
       "   {'transaction-id': 75760, 'amount': -531},\n",
       "   {'transaction-id': 76635, 'amount': -488},\n",
       "   {'transaction-id': 76990, 'amount': -363},\n",
       "   {'transaction-id': 78324, 'amount': -364},\n",
       "   {'transaction-id': 79421, 'amount': -334},\n",
       "   {'transaction-id': 79548, 'amount': -337},\n",
       "   {'transaction-id': 80468, 'amount': -407},\n",
       "   {'transaction-id': 83185, 'amount': -414},\n",
       "   {'transaction-id': 83370, 'amount': -380},\n",
       "   {'transaction-id': 84467, 'amount': -488},\n",
       "   {'transaction-id': 86338, 'amount': -337},\n",
       "   {'transaction-id': 86949, 'amount': -290},\n",
       "   {'transaction-id': 86966, 'amount': -372},\n",
       "   {'transaction-id': 87292, 'amount': -443},\n",
       "   {'transaction-id': 87630, 'amount': -371},\n",
       "   {'transaction-id': 91414, 'amount': -405},\n",
       "   {'transaction-id': 91743, 'amount': -427},\n",
       "   {'transaction-id': 92365, 'amount': -239},\n",
       "   {'transaction-id': 93104, 'amount': -277},\n",
       "   {'transaction-id': 93224, 'amount': -300},\n",
       "   {'transaction-id': 93346, 'amount': -375},\n",
       "   {'transaction-id': 94694, 'amount': -403},\n",
       "   {'transaction-id': 95401, 'amount': -496},\n",
       "   {'transaction-id': 95544, 'amount': -376},\n",
       "   {'transaction-id': 98065, 'amount': -361}]})"
      ]
     },
     "execution_count": 19,
     "metadata": {},
     "output_type": "execute_result"
    }
   ],
   "source": [
    "# filter: keep only some elements of the sequence\n",
    "js.filter(lambda record: record['name'] == 'Alice').take(5)"
   ]
  },
  {
   "cell_type": "code",
   "execution_count": 20,
   "metadata": {
    "collapsed": true,
    "jupyter": {
     "outputs_hidden": true
    }
   },
   "outputs": [
    {
     "data": {
      "text/plain": [
       "({'name': 'Alice', 'count': 10},\n",
       " {'name': 'Alice', 'count': 36},\n",
       " {'name': 'Alice', 'count': 81},\n",
       " {'name': 'Alice', 'count': 12},\n",
       " {'name': 'Alice', 'count': 95})"
      ]
     },
     "execution_count": 20,
     "metadata": {},
     "output_type": "execute_result"
    }
   ],
   "source": [
    "def count_transactions(d):\n",
    "    return {'name': d['name'], 'count': len(d['transactions'])}\n",
    "\n",
    "# map: apply a function to each element\n",
    "(js.filter(lambda record: record['name'] == 'Alice')\n",
    "   .map(count_transactions)\n",
    "   .take(5))"
   ]
  },
  {
   "cell_type": "code",
   "execution_count": 21,
   "metadata": {},
   "outputs": [
    {
     "data": {
      "text/plain": [
       "(10, 36, 81, 12, 95)"
      ]
     },
     "execution_count": 21,
     "metadata": {},
     "output_type": "execute_result"
    }
   ],
   "source": [
    "# pluck: select a field, as from a dictionary, element[field]\n",
    "(js.filter(lambda record: record['name'] == 'Alice')\n",
    "   .map(count_transactions)\n",
    "   .pluck('count')\n",
    "   .take(5))"
   ]
  },
  {
   "cell_type": "code",
   "execution_count": 22,
   "metadata": {},
   "outputs": [
    {
     "data": {
      "text/plain": [
       "169.3325"
      ]
     },
     "execution_count": 22,
     "metadata": {},
     "output_type": "execute_result"
    }
   ],
   "source": [
    "# Average number of transactions for all of the Alice entries\n",
    "(js.filter(lambda record: record['name'] == 'Alice')\n",
    "   .map(count_transactions)\n",
    "   .pluck('count')\n",
    "   .mean()\n",
    "   .compute())"
   ]
  },
  {
   "cell_type": "markdown",
   "metadata": {},
   "source": [
    "### Use `flatten` to de-nest"
   ]
  },
  {
   "cell_type": "markdown",
   "metadata": {},
   "source": [
    "In the example below we see the use of `.flatten()` to flatten results.  We compute the average amount for all transactions for all Alices."
   ]
  },
  {
   "cell_type": "code",
   "execution_count": 27,
   "metadata": {
    "collapsed": true,
    "jupyter": {
     "outputs_hidden": true
    }
   },
   "outputs": [
    {
     "data": {
      "text/plain": [
       "([{'transaction-id': 0, 'amount': 4322},\n",
       "  {'transaction-id': 3562, 'amount': 4425},\n",
       "  {'transaction-id': 6996, 'amount': 4435},\n",
       "  {'transaction-id': 12493, 'amount': 4179},\n",
       "  {'transaction-id': 34460, 'amount': 4643},\n",
       "  {'transaction-id': 39668, 'amount': 4238},\n",
       "  {'transaction-id': 41986, 'amount': 4582},\n",
       "  {'transaction-id': 50578, 'amount': 3999},\n",
       "  {'transaction-id': 63287, 'amount': 4449},\n",
       "  {'transaction-id': 76523, 'amount': 4538}],\n",
       " [{'transaction-id': 575, 'amount': 311},\n",
       "  {'transaction-id': 1484, 'amount': 858},\n",
       "  {'transaction-id': 1974, 'amount': 846},\n",
       "  {'transaction-id': 2683, 'amount': 635},\n",
       "  {'transaction-id': 3876, 'amount': 222},\n",
       "  {'transaction-id': 3964, 'amount': 566},\n",
       "  {'transaction-id': 4324, 'amount': 1075},\n",
       "  {'transaction-id': 7396, 'amount': 566},\n",
       "  {'transaction-id': 8922, 'amount': 876},\n",
       "  {'transaction-id': 11741, 'amount': 507},\n",
       "  {'transaction-id': 16806, 'amount': 703},\n",
       "  {'transaction-id': 17451, 'amount': 587},\n",
       "  {'transaction-id': 18718, 'amount': 578},\n",
       "  {'transaction-id': 20669, 'amount': 290},\n",
       "  {'transaction-id': 23209, 'amount': 705},\n",
       "  {'transaction-id': 27080, 'amount': 817},\n",
       "  {'transaction-id': 30954, 'amount': 606},\n",
       "  {'transaction-id': 33536, 'amount': 755},\n",
       "  {'transaction-id': 34707, 'amount': 847},\n",
       "  {'transaction-id': 36538, 'amount': 698},\n",
       "  {'transaction-id': 36863, 'amount': 622},\n",
       "  {'transaction-id': 38036, 'amount': 725},\n",
       "  {'transaction-id': 46898, 'amount': 746},\n",
       "  {'transaction-id': 50077, 'amount': 423},\n",
       "  {'transaction-id': 50143, 'amount': 387},\n",
       "  {'transaction-id': 58049, 'amount': 775},\n",
       "  {'transaction-id': 61087, 'amount': 864},\n",
       "  {'transaction-id': 74997, 'amount': 939},\n",
       "  {'transaction-id': 76037, 'amount': 457},\n",
       "  {'transaction-id': 84868, 'amount': 738},\n",
       "  {'transaction-id': 85731, 'amount': 625},\n",
       "  {'transaction-id': 88804, 'amount': 259},\n",
       "  {'transaction-id': 92792, 'amount': 569},\n",
       "  {'transaction-id': 93607, 'amount': 562},\n",
       "  {'transaction-id': 99348, 'amount': 900},\n",
       "  {'transaction-id': 99476, 'amount': 374}],\n",
       " [{'transaction-id': 1112, 'amount': 5987},\n",
       "  {'transaction-id': 1245, 'amount': 5614},\n",
       "  {'transaction-id': 2283, 'amount': 6102},\n",
       "  {'transaction-id': 5357, 'amount': 5873},\n",
       "  {'transaction-id': 6227, 'amount': 5511},\n",
       "  {'transaction-id': 7720, 'amount': 6340},\n",
       "  {'transaction-id': 7825, 'amount': 5849},\n",
       "  {'transaction-id': 7998, 'amount': 6270},\n",
       "  {'transaction-id': 8218, 'amount': 5289},\n",
       "  {'transaction-id': 8592, 'amount': 6242},\n",
       "  {'transaction-id': 10022, 'amount': 6016},\n",
       "  {'transaction-id': 11935, 'amount': 5582},\n",
       "  {'transaction-id': 12027, 'amount': 6110},\n",
       "  {'transaction-id': 12532, 'amount': 5121},\n",
       "  {'transaction-id': 14318, 'amount': 5666},\n",
       "  {'transaction-id': 14381, 'amount': 5665},\n",
       "  {'transaction-id': 14638, 'amount': 5174},\n",
       "  {'transaction-id': 16789, 'amount': 6240},\n",
       "  {'transaction-id': 18148, 'amount': 5352},\n",
       "  {'transaction-id': 18445, 'amount': 5661},\n",
       "  {'transaction-id': 19445, 'amount': 5940},\n",
       "  {'transaction-id': 19608, 'amount': 5360},\n",
       "  {'transaction-id': 20500, 'amount': 5540},\n",
       "  {'transaction-id': 21138, 'amount': 5825},\n",
       "  {'transaction-id': 21362, 'amount': 4975},\n",
       "  {'transaction-id': 22698, 'amount': 5715},\n",
       "  {'transaction-id': 24292, 'amount': 6004},\n",
       "  {'transaction-id': 26056, 'amount': 5137},\n",
       "  {'transaction-id': 27459, 'amount': 5673},\n",
       "  {'transaction-id': 28926, 'amount': 5189},\n",
       "  {'transaction-id': 29020, 'amount': 5475},\n",
       "  {'transaction-id': 30092, 'amount': 5914},\n",
       "  {'transaction-id': 30121, 'amount': 5614},\n",
       "  {'transaction-id': 33206, 'amount': 5441},\n",
       "  {'transaction-id': 35532, 'amount': 5687},\n",
       "  {'transaction-id': 38307, 'amount': 5893},\n",
       "  {'transaction-id': 38326, 'amount': 5837},\n",
       "  {'transaction-id': 38860, 'amount': 5772},\n",
       "  {'transaction-id': 40991, 'amount': 6279},\n",
       "  {'transaction-id': 42289, 'amount': 5767},\n",
       "  {'transaction-id': 42650, 'amount': 5488},\n",
       "  {'transaction-id': 46283, 'amount': 5976},\n",
       "  {'transaction-id': 49395, 'amount': 5293},\n",
       "  {'transaction-id': 50829, 'amount': 5465},\n",
       "  {'transaction-id': 50843, 'amount': 5985},\n",
       "  {'transaction-id': 51084, 'amount': 6301},\n",
       "  {'transaction-id': 56460, 'amount': 5864},\n",
       "  {'transaction-id': 58256, 'amount': 5821},\n",
       "  {'transaction-id': 58440, 'amount': 6496},\n",
       "  {'transaction-id': 62612, 'amount': 5462},\n",
       "  {'transaction-id': 62896, 'amount': 5932},\n",
       "  {'transaction-id': 63575, 'amount': 6261},\n",
       "  {'transaction-id': 64780, 'amount': 5743},\n",
       "  {'transaction-id': 65743, 'amount': 6066},\n",
       "  {'transaction-id': 67191, 'amount': 5901},\n",
       "  {'transaction-id': 68805, 'amount': 5718},\n",
       "  {'transaction-id': 69055, 'amount': 5682},\n",
       "  {'transaction-id': 71673, 'amount': 5561},\n",
       "  {'transaction-id': 74076, 'amount': 5616},\n",
       "  {'transaction-id': 74688, 'amount': 5457},\n",
       "  {'transaction-id': 75061, 'amount': 5901},\n",
       "  {'transaction-id': 75761, 'amount': 5088},\n",
       "  {'transaction-id': 76217, 'amount': 5674},\n",
       "  {'transaction-id': 77059, 'amount': 5991},\n",
       "  {'transaction-id': 80013, 'amount': 5441},\n",
       "  {'transaction-id': 80216, 'amount': 5667},\n",
       "  {'transaction-id': 82521, 'amount': 5435},\n",
       "  {'transaction-id': 85058, 'amount': 6012},\n",
       "  {'transaction-id': 85631, 'amount': 6030},\n",
       "  {'transaction-id': 85858, 'amount': 5996},\n",
       "  {'transaction-id': 86908, 'amount': 5509},\n",
       "  {'transaction-id': 87567, 'amount': 6015},\n",
       "  {'transaction-id': 88089, 'amount': 5305},\n",
       "  {'transaction-id': 88381, 'amount': 5707},\n",
       "  {'transaction-id': 92573, 'amount': 6261},\n",
       "  {'transaction-id': 93505, 'amount': 5860},\n",
       "  {'transaction-id': 94674, 'amount': 5914},\n",
       "  {'transaction-id': 95730, 'amount': 5619},\n",
       "  {'transaction-id': 96073, 'amount': 5476},\n",
       "  {'transaction-id': 97111, 'amount': 5636},\n",
       "  {'transaction-id': 98259, 'amount': 5756}])"
      ]
     },
     "execution_count": 27,
     "metadata": {},
     "output_type": "execute_result"
    }
   ],
   "source": [
    "(js.filter(lambda record: record['name'] == 'Alice')\n",
    "    .pluck('transactions').take(3))"
   ]
  },
  {
   "cell_type": "code",
   "execution_count": 25,
   "metadata": {},
   "outputs": [
    {
     "data": {
      "text/plain": [
       "({'transaction-id': 0, 'amount': 4322},\n",
       " {'transaction-id': 3562, 'amount': 4425},\n",
       " {'transaction-id': 6996, 'amount': 4435})"
      ]
     },
     "execution_count": 25,
     "metadata": {},
     "output_type": "execute_result"
    }
   ],
   "source": [
    "(js.filter(lambda record: record['name'] == 'Alice')\n",
    "   .pluck('transactions')\n",
    "   .flatten()\n",
    "   .take(3))"
   ]
  },
  {
   "cell_type": "code",
   "execution_count": null,
   "metadata": {},
   "outputs": [],
   "source": [
    "(js.filter(lambda record: record['name'] == 'Alice')\n",
    "   .pluck('transactions')\n",
    "   .flatten()\n",
    "   .pluck('amount')\n",
    "   .take(3))"
   ]
  },
  {
   "cell_type": "code",
   "execution_count": 28,
   "metadata": {},
   "outputs": [
    {
     "data": {
      "text/plain": [
       "2122.772779393599"
      ]
     },
     "execution_count": 28,
     "metadata": {},
     "output_type": "execute_result"
    }
   ],
   "source": [
    "(js.filter(lambda record: record['name'] == 'Alice')\n",
    "   .pluck('transactions')\n",
    "   .flatten()\n",
    "   .pluck('amount')\n",
    "   .mean()\n",
    "   .compute())"
   ]
  },
  {
   "cell_type": "markdown",
   "metadata": {},
   "source": [
    "### Groupby and Foldby"
   ]
  },
  {
   "cell_type": "markdown",
   "metadata": {},
   "source": [
    "Often we want to group data by some function or key.  We can do this either with the `.groupby` method, which is straightforward but forces a full shuffle of the data (expensive) or with the harder-to-use but faster `.foldby` method, which does a streaming combined groupby and reduction.\n",
    "\n",
    "*  `groupby`:  Shuffles data so that all items with the same key are in the same key-value pair\n",
    "*  `foldby`:  Walks through the data accumulating a result per key\n",
    "\n",
    "*Note: the full groupby is particularly bad. In actual workloads you would do well to use `foldby` or switch to `DataFrame`s if possible.*"
   ]
  },
  {
   "cell_type": "markdown",
   "metadata": {},
   "source": [
    "### `groupby`"
   ]
  },
  {
   "cell_type": "markdown",
   "metadata": {},
   "source": [
    "Groupby collects items in your collection so that all items with the same value under some function are collected together into a key-value pair."
   ]
  },
  {
   "cell_type": "code",
   "execution_count": 29,
   "metadata": {},
   "outputs": [
    {
     "data": {
      "text/plain": [
       "[(7, ['Charlie']), (3, ['Bob', 'Dan']), (5, ['Alice', 'Edith', 'Frank'])]"
      ]
     },
     "execution_count": 29,
     "metadata": {},
     "output_type": "execute_result"
    }
   ],
   "source": [
    "b = db.from_sequence(['Alice', 'Bob', 'Charlie', 'Dan', 'Edith', 'Frank'])\n",
    "b.groupby(len).compute()  # names grouped by length"
   ]
  },
  {
   "cell_type": "code",
   "execution_count": 30,
   "metadata": {},
   "outputs": [
    {
     "data": {
      "text/plain": [
       "[(0, [0, 2, 4, 6, 8]), (1, [1, 3, 5, 7, 9])]"
      ]
     },
     "execution_count": 30,
     "metadata": {},
     "output_type": "execute_result"
    }
   ],
   "source": [
    "b = db.from_sequence(list(range(10)))\n",
    "b.groupby(lambda x: x % 2).compute()"
   ]
  },
  {
   "cell_type": "code",
   "execution_count": 31,
   "metadata": {},
   "outputs": [
    {
     "data": {
      "text/plain": [
       "[(0, 8), (1, 9)]"
      ]
     },
     "execution_count": 31,
     "metadata": {},
     "output_type": "execute_result"
    }
   ],
   "source": [
    "b.groupby(lambda x: x % 2).starmap(lambda k, v: (k, max(v))).compute()"
   ]
  },
  {
   "cell_type": "markdown",
   "metadata": {},
   "source": [
    "### `foldby`"
   ]
  },
  {
   "cell_type": "markdown",
   "metadata": {},
   "source": [
    "Foldby can be quite odd at first.  It is similar to the following functions from other libraries:\n",
    "\n",
    "*  [`toolz.reduceby`](http://toolz.readthedocs.io/en/latest/streaming-analytics.html#streaming-split-apply-combine)\n",
    "*  [`pyspark.RDD.combineByKey`](http://abshinn.github.io/python/apache-spark/2014/10/11/using-combinebykey-in-apache-spark/)\n",
    "\n",
    "When using `foldby` you provide \n",
    "\n",
    "1.  A key function on which to group elements\n",
    "2.  A binary operator such as you would pass to `reduce` that you use to perform reduction per each group\n",
    "3.  A combine binary operator that can combine the results of two `reduce` calls on different parts of your dataset.\n",
    "\n",
    "Your reduction must be associative.  It will happen in parallel in each of the partitions of your dataset.  Then all of these intermediate results will be combined by the `combine` binary operator."
   ]
  },
  {
   "cell_type": "code",
   "execution_count": 32,
   "metadata": {},
   "outputs": [
    {
     "data": {
      "text/plain": [
       "[(0, 8), (1, 9)]"
      ]
     },
     "execution_count": 32,
     "metadata": {},
     "output_type": "execute_result"
    }
   ],
   "source": [
    "is_even = lambda x: x % 2\n",
    "b.foldby(is_even, binop=max, combine=max).compute()"
   ]
  },
  {
   "cell_type": "markdown",
   "metadata": {},
   "source": [
    "### Example with account data"
   ]
  },
  {
   "cell_type": "markdown",
   "metadata": {},
   "source": [
    "We find the number of people with the same name."
   ]
  },
  {
   "cell_type": "code",
   "execution_count": 33,
   "metadata": {},
   "outputs": [
    {
     "name": "stdout",
     "output_type": "stream",
     "text": [
      "[('Alice', 1200), ('Bob', 790), ('Charlie', 900), ('Dan', 1300), ('Edith', 700), ('Frank', 900), ('George', 900), ('Hannah', 800), ('Ingrid', 772), ('Jerry', 969), ('Kevin', 700), ('Laura', 1050), ('Michael', 1067), ('Norbert', 1050), ('Oliver', 1099), ('Patricia', 1247), ('Quinn', 850), ('Ray', 950), ('Sarah', 1148), ('Tim', 1050), ('Ursula', 870), ('Victor', 1247), ('Wendy', 831), ('Xavier', 1000), ('Yvonne', 850), ('Zelda', 600)]\n",
      "CPU times: user 11.3 s, sys: 1.4 s, total: 12.7 s\n",
      "Wall time: 3min 47s\n"
     ]
    }
   ],
   "source": [
    "%%time\n",
    "# Warning, this one takes a while...\n",
    "result = js.groupby(lambda item: item['name']).starmap(lambda k, v: (k, len(v))).compute()\n",
    "print(sorted(result))"
   ]
  },
  {
   "cell_type": "code",
   "execution_count": 34,
   "metadata": {},
   "outputs": [
    {
     "name": "stdout",
     "output_type": "stream",
     "text": [
      "[('Alice', 1200), ('Bob', 790), ('Charlie', 900), ('Dan', 1300), ('Edith', 700), ('Frank', 900), ('George', 900), ('Hannah', 800), ('Ingrid', 772), ('Jerry', 969), ('Kevin', 700), ('Laura', 1050), ('Michael', 1067), ('Norbert', 1050), ('Oliver', 1099), ('Patricia', 1247), ('Quinn', 850), ('Ray', 950), ('Sarah', 1148), ('Tim', 1050), ('Ursula', 870), ('Victor', 1247), ('Wendy', 831), ('Xavier', 1000), ('Yvonne', 850), ('Zelda', 600)]\n",
      "CPU times: user 354 ms, sys: 0 ns, total: 354 ms\n",
      "Wall time: 1.96 s\n"
     ]
    }
   ],
   "source": [
    "%%time\n",
    "# This one is comparatively fast and produces the same result.\n",
    "from operator import add\n",
    "def incr(tot, _):\n",
    "    return tot+1\n",
    "\n",
    "result = js.foldby(key='name', \n",
    "                   binop=incr, \n",
    "                   initial=0, \n",
    "                   combine=add, \n",
    "                   combine_initial=0).compute()\n",
    "print(sorted(result))"
   ]
  },
  {
   "cell_type": "markdown",
   "metadata": {},
   "source": [
    "### Exercise: compute total amount per name"
   ]
  },
  {
   "cell_type": "markdown",
   "metadata": {},
   "source": [
    "We want to groupby (or foldby) the `name` key, then add up the all of the amounts for each name.\n",
    "\n",
    "Steps\n",
    "\n",
    "1.  Create a small function that, given a dictionary like \n",
    "\n",
    "        {'name': 'Alice', 'transactions': [{'amount': 1, 'id': 123}, {'amount': 2, 'id': 456}]}\n",
    "        \n",
    "    produces the sum of the amounts, e.g. `3`\n",
    "    \n",
    "2.  Slightly change the binary operator of the `foldby` example above so that the binary operator doesn't count the number of entries, but instead accumulates the sum of the amounts."
   ]
  },
  {
   "cell_type": "code",
   "execution_count": 35,
   "metadata": {},
   "outputs": [
    {
     "ename": "NameError",
     "evalue": "name 'from_sequence' is not defined",
     "output_type": "error",
     "traceback": [
      "\u001b[0;31m---------------------------------------------------------------------------\u001b[0m",
      "\u001b[0;31mNameError\u001b[0m                                 Traceback (most recent call last)",
      "\u001b[0;32m<ipython-input-35-dd6d3efc4ee4>\u001b[0m in \u001b[0;36m<module>\u001b[0;34m\u001b[0m\n\u001b[1;32m      1\u001b[0m \u001b[0;31m# Your code here...\u001b[0m\u001b[0;34m\u001b[0m\u001b[0;34m\u001b[0m\u001b[0;34m\u001b[0m\u001b[0m\n\u001b[0;32m----> 2\u001b[0;31m \u001b[0mb\u001b[0m \u001b[0;34m=\u001b[0m \u001b[0mfrom_sequence\u001b[0m\u001b[0;34m(\u001b[0m\u001b[0mrange\u001b[0m\u001b[0;34m(\u001b[0m\u001b[0;36m5\u001b[0m\u001b[0;34m)\u001b[0m\u001b[0;34m)\u001b[0m\u001b[0;34m\u001b[0m\u001b[0;34m\u001b[0m\u001b[0m\n\u001b[0m\u001b[1;32m      3\u001b[0m \u001b[0mb\u001b[0m\u001b[0;34m\u001b[0m\u001b[0;34m\u001b[0m\u001b[0m\n",
      "\u001b[0;31mNameError\u001b[0m: name 'from_sequence' is not defined"
     ]
    }
   ],
   "source": [
    "%%time\n",
    "# Your code here...\n"
   ]
  },
  {
   "cell_type": "markdown",
   "metadata": {},
   "source": [
    "## DataFrames"
   ]
  },
  {
   "cell_type": "markdown",
   "metadata": {},
   "source": [
    "For the same reasons that Pandas is often faster than pure Python, `dask.dataframe` can be faster than `dask.bag`.  We will work more with DataFrames later, but from for the bag point of view, they are frequently the end-point of the \"messy\" part of data ingestion—once the data can be made into a data-frame, then complex split-apply-combine logic will become much more straight-forward and efficient.\n",
    "\n",
    "You can transform a bag with a simple tuple or flat dictionary structure into a `dask.dataframe` with the `to_dataframe` method."
   ]
  },
  {
   "cell_type": "code",
   "execution_count": null,
   "metadata": {},
   "outputs": [],
   "source": [
    "df1 = js.to_dataframe()\n",
    "df1.head()"
   ]
  },
  {
   "cell_type": "markdown",
   "metadata": {},
   "source": [
    "This now looks like a well-defined DataFrame, and we can apply Pandas-like computations to it efficiently."
   ]
  },
  {
   "cell_type": "markdown",
   "metadata": {},
   "source": [
    "Using a Dask DataFrame, how long does it take to do our prior computation of numbers of people with the same name?  It turns out that `dask.dataframe.groupby()` beats `dask.bag.groupby()` more than an order of magnitude; but it still cannot match `dask.bag.foldby()` for this case."
   ]
  },
  {
   "cell_type": "code",
   "execution_count": null,
   "metadata": {},
   "outputs": [],
   "source": [
    "%time df1.groupby('name').id.count().compute().head()"
   ]
  },
  {
   "cell_type": "markdown",
   "metadata": {},
   "source": [
    "### Denormalization"
   ]
  },
  {
   "cell_type": "markdown",
   "metadata": {},
   "source": [
    "This DataFrame format is less-than-optimal because the `transactions` column is filled with nested data so Pandas has to revert to `object` dtype, which is quite slow in Pandas.  Ideally we want to transform to a dataframe only after we have flattened our data so that each record is a single `int`, `string`, `float`, etc.."
   ]
  },
  {
   "cell_type": "code",
   "execution_count": null,
   "metadata": {},
   "outputs": [],
   "source": [
    "def denormalize(record):\n",
    "    # returns a list for every nested item, each transaction of each person\n",
    "    return [{'id': record['id'], \n",
    "             'name': record['name'], \n",
    "             'amount': transaction['amount'], \n",
    "             'transaction-id': transaction['transaction-id']}\n",
    "            for transaction in record['transactions']]\n",
    "\n",
    "transactions = js.map(denormalize).flatten()\n",
    "transactions.take(3)"
   ]
  },
  {
   "cell_type": "code",
   "execution_count": null,
   "metadata": {},
   "outputs": [],
   "source": [
    "df = transactions.to_dataframe()\n",
    "df.head()"
   ]
  },
  {
   "cell_type": "code",
   "execution_count": null,
   "metadata": {},
   "outputs": [],
   "source": [
    "%%time\n",
    "# number of transactions per name\n",
    "# note that the time here includes the data load and ingestion\n",
    "df.groupby('name')['transaction-id'].count().compute()"
   ]
  },
  {
   "cell_type": "markdown",
   "metadata": {},
   "source": [
    "## Limitations"
   ]
  },
  {
   "cell_type": "markdown",
   "metadata": {},
   "source": [
    "Bags provide very general computation (any Python function.)  This generality\n",
    "comes at cost.  Bags have the following known limitations\n",
    "\n",
    "1.  Bag operations tend to be slower than array/dataframe computations in the\n",
    "    same way that Python tends to be slower than NumPy/Pandas\n",
    "2.  ``Bag.groupby`` is slow.  You should try to use ``Bag.foldby`` if possible.\n",
    "    Using ``Bag.foldby`` requires more thought. Even better, consider creating\n",
    "    a normalised dataframe."
   ]
  },
  {
   "cell_type": "markdown",
   "metadata": {},
   "source": [
    "## Shutdown"
   ]
  },
  {
   "cell_type": "code",
   "execution_count": null,
   "metadata": {},
   "outputs": [],
   "source": [
    "client.shutdown()"
   ]
  }
 ],
 "metadata": {
  "anaconda-cloud": {},
  "kernelspec": {
   "display_name": "Python 3",
   "language": "python",
   "name": "python3"
  },
  "language_info": {
   "codemirror_mode": {
    "name": "ipython",
    "version": 3
   },
   "file_extension": ".py",
   "mimetype": "text/x-python",
   "name": "python",
   "nbconvert_exporter": "python",
   "pygments_lexer": "ipython3",
   "version": "3.8.0"
  }
 },
 "nbformat": 4,
 "nbformat_minor": 4
}
